{
 "cells": [
  {
   "cell_type": "code",
   "execution_count": null,
   "id": "ab885135",
   "metadata": {
    "vscode": {
     "languageId": "plaintext"
    }
   },
   "outputs": [],
   "source": [
    "def extract_boxed_content(text: str) -> str | None:\n",
    "    \"\"\"\n",
    "    Finds and extracts the content within a \\\\boxed{...} command in a string.\n",
    "\n",
    "    This function uses a regular expression to find the first occurrence\n",
    "    of the \\\\boxed{...} pattern and returns the text inside the curly braces.\n",
    "\n",
    "    Args:\n",
    "        text: The string to search within.\n",
    "\n",
    "    Returns:\n",
    "        The extracted content as a string if the pattern is found.\n",
    "        Otherwise, it returns None.\n",
    "    \"\"\"\n",
    "    # The regular expression pattern looks for:\n",
    "    # \\\\boxed{     - a literal '\\\\boxed{'\n",
    "    # (.*?)        - a non-greedy capture of any characters (the content)\n",
    "    # }            - a closing curly brace\n",
    "    # re.DOTALL allows '.' to match newline characters inside the box.\n",
    "    match = re.search(r\"\\\\boxed{(.*?)}\", text, re.DOTALL)\n",
    "    \n",
    "    if match:\n",
    "        # The actual captured content is in group 1.\n",
    "        return match.group(1).strip()\n",
    "    else:\n",
    "        # Return None if no match was found.\n",
    "        return None"
   ]
  }
 ],
 "metadata": {
  "language_info": {
   "name": "python"
  }
 },
 "nbformat": 4,
 "nbformat_minor": 5
}
